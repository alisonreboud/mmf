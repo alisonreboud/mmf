{
 "cells": [
  {
   "cell_type": "code",
   "execution_count": 39,
   "id": "e8f68bf9",
   "metadata": {},
   "outputs": [],
   "source": [
    "import json\n",
    "\n",
    "from mmf.datasets.databases.annotation_database import AnnotationDatabase\n",
    "\n",
    "## Inherit default MMF's AnnotationDatabase and update necessary\n",
    "## function `load_annotation_db`\n",
    "class CSIAnnotationDatabase(AnnotationDatabase):\n",
    "    def load_annotation_db(self, path: str):\n",
    "        db=df.read_csv(path)\n",
    "        self.data = db\n",
    "        self.start_idx =0\n"
   ]
  },
  {
   "cell_type": "code",
   "execution_count": null,
   "id": "b35c7364",
   "metadata": {},
   "outputs": [],
   "source": []
  },
  {
   "cell_type": "code",
   "execution_count": 40,
   "id": "informative-carpet",
   "metadata": {},
   "outputs": [],
   "source": [
    "\n",
    "import copy\n",
    "import json\n",
    "\n",
    "import torch\n",
    "from mmf.common.sample import Sample\n",
    "from mmf.datasets.mmf_dataset import MMFDataset\n",
    "\n",
    "\n",
    "class CSIFeaturesDataset(MMFDataset):\n",
    "        \n",
    "    def __init__(self, config, dataset, data_folder=None, *args, **kwargs):\n",
    "        super().__init__(\"csi\", config, dataset)\n",
    "        self._data_folder = data_folder\n",
    "        self._data_dir = os.path.join(get_mmf_root(), config.data_dir)\n",
    "\n",
    "        if not self._data_folder:\n",
    "            self._data_folder = os.path.join(self._data_dir, config.data_folder)\n",
    "\n",
    "        if not os.path.exists(self._data_folder):\n",
    "            raise RuntimeError(\n",
    "                \"Data folder {} for CSI is not present\".format(self._data_folder)\n",
    "            )\n",
    "\n",
    "        # Check if the folder was actually extracted in the subfolder\n",
    "        if config.data_folder in os.listdir(self._data_folder):\n",
    "            self._data_folder = os.path.join(self._data_folder, config.data_folder)\n",
    "            print(self._data_folder)\n",
    "\n",
    "        if len(os.listdir(self._data_folder)) == 0:\n",
    "            raise RuntimeError(\"CSI dataset folder is empty\")\n",
    "\n",
    "        self._load()\n",
    "        \n",
    "    def build_annotation_db(self):\n",
    "        \"\"\"\n",
    "        We are overriding this function to return our custom AnnotationDatabase\n",
    "        which we built specifically for OKVQA. Similarly, we can override\n",
    "        build_image_db and build_feature_db for to implement custom versions of\n",
    "        those for a particular dataset.\n",
    "        \"\"\"\n",
    "        annotation_path = self._get_path_based_on_index(\n",
    "            self.config, \"annotations\", self._index\n",
    "        )\n",
    "        print(annotation_path)\n",
    "        return CSIAnnotationDatabase(self.config, annotation_path)\n",
    "\n",
    "    def __getitem__(self, idx):\n",
    "        sample_info = self.annotation_db[idx]\n",
    "        current_sample = Sample()\n",
    "        screenplay = sample_info[\"screenplay\"]\n",
    "        if isinstance(screenplay, list):\n",
    "            screenplay = screenplay[0]\n",
    "        processed_sentence = self.text_processor({\"text\": screenplay})\n",
    "\n",
    "        current_sample.text = processed_sentence[\"text\"]\n",
    "        if \"input_ids\" in processed_sentence:\n",
    "            current_sample.update(processed_sentence)\n",
    "\n",
    "        if self._use_features is True:\n",
    "            features = self.features_db[idx]\n",
    "            if hasattr(self, \"transformer_bbox_processor\"):\n",
    "                features[\"image_info_0\"] = self.transformer_bbox_processor(\n",
    "                    features[\"image_info_0\"]\n",
    "                )\n",
    "            current_sample.update(features)\n",
    "\n",
    "        processed = self.answer_processor({\"answers\": sample_info[\"label\"]})\n",
    "        current_sample.answers = processed[\"answers\"]\n",
    "        current_sample.targets = processed[\"answers_scores\"]\n",
    "\n",
    "        return current_sample\n"
   ]
  },
  {
   "cell_type": "code",
   "execution_count": null,
   "id": "77e40ad1",
   "metadata": {},
   "outputs": [],
   "source": []
  },
  {
   "cell_type": "code",
   "execution_count": 41,
   "id": "paperback-insulation",
   "metadata": {
    "scrolled": true
   },
   "outputs": [
    {
     "name": "stdout",
     "output_type": "stream",
     "text": [
      "here\n"
     ]
    }
   ],
   "source": [
    "# Copyright (c) Facebook, Inc. and its affiliates.\n",
    "# All rights reserved.\n",
    "#\n",
    "# This source code is licensed under the license found in the\n",
    "# LICENSE file in the root directory of this source tree.\n",
    "#\n",
    "print('here')\n",
    "from mmf.common.registry import registry\n",
    "from mmf.datasets.builders.csi.dataset import CSIFeaturesDataset\n",
    "from mmf.datasets.mmf_dataset_builder import MMFDatasetBuilder\n",
    "\n",
    "\n",
    "@registry.register_builder(\"csi\")\n",
    "\n",
    "class CSIDialogueBuilder(MMFDatasetBuilder):\n",
    "    #ZOO_CONFIG_PATH = \"/content/configs/zoo.yaml\"\n",
    "    def __init__(self, dataset_name=\"csi\", dataset_class=CSIFeaturesDataset, *args, **kwargs):\n",
    "        super().__init__(dataset_name, dataset_class,*args, **kwargs)\n",
    "\n",
    "\n",
    "    @classmethod\n",
    "\n",
    "\n",
    "    def config_path(cls):\n",
    "        return \"configs/datasets/csi/defaults.yaml\"\n",
    "    \n",
    "    \n",
    "    \n"
   ]
  },
  {
   "cell_type": "code",
   "execution_count": 46,
   "id": "animal-surge",
   "metadata": {},
   "outputs": [],
   "source": [
    "from mmf.utils.build import build_dataset\n",
    "from mmf.utils.configuration import Configuration\n",
    "\n",
    "# Init configuration to register resolvers\n",
    "#Configuration()\n",
    "#dataset = build_dataset(\"csi\", dataset_type=\"train\")\n",
    "\n",
    "_ = registry.unregister(\"csi\")\n"
   ]
  },
  {
   "cell_type": "code",
   "execution_count": null,
   "id": "c8f74244",
   "metadata": {},
   "outputs": [],
   "source": []
  }
 ],
 "metadata": {
  "kernelspec": {
   "display_name": "Python 3",
   "language": "python",
   "name": "python3"
  },
  "language_info": {
   "codemirror_mode": {
    "name": "ipython",
    "version": 3
   },
   "file_extension": ".py",
   "mimetype": "text/x-python",
   "name": "python",
   "nbconvert_exporter": "python",
   "pygments_lexer": "ipython3",
   "version": "3.7.10"
  }
 },
 "nbformat": 4,
 "nbformat_minor": 5
}
